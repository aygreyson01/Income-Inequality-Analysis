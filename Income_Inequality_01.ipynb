{
  "nbformat": 4,
  "nbformat_minor": 0,
  "metadata": {
    "colab": {
      "name": "Income_Inequality_01.ipynb",
      "provenance": [],
      "authorship_tag": "ABX9TyOEnZNUw5Lr/Hy71FoRdEN4",
      "include_colab_link": true
    },
    "kernelspec": {
      "name": "python3",
      "display_name": "Python 3"
    },
    "language_info": {
      "name": "python"
    }
  },
  "cells": [
    {
      "cell_type": "markdown",
      "metadata": {
        "id": "view-in-github",
        "colab_type": "text"
      },
      "source": [
        "<a href=\"https://colab.research.google.com/github/aygreyson01/Income-Inequality-Analysis/blob/main/Income_Inequality_01.ipynb\" target=\"_parent\"><img src=\"https://colab.research.google.com/assets/colab-badge.svg\" alt=\"Open In Colab\"/></a>"
      ]
    },
    {
      "cell_type": "code",
      "metadata": {
        "colab": {
          "base_uri": "https://localhost:8080/"
        },
        "id": "-ahcxvhlIcag",
        "outputId": "5d6b1c7f-c1d2-4b2f-d20e-fbc0caa9e70d"
      },
      "source": [
        "from google.colab import drive #link to import csv from google drive\n",
        "drive.mount(\"/content/gdrive\")"
      ],
      "execution_count": null,
      "outputs": [
        {
          "output_type": "stream",
          "text": [
            "Mounted at /content/gdrive\n"
          ],
          "name": "stdout"
        }
      ]
    },
    {
      "cell_type": "code",
      "metadata": {
        "id": "e3BmaGC1Jsk4"
      },
      "source": [
        "import pandas as pd #csv imported\n",
        "df=pd.read_csv(\"/content/gdrive/MyDrive/Income_Inequality_0.csv\")"
      ],
      "execution_count": null,
      "outputs": []
    },
    {
      "cell_type": "code",
      "metadata": {
        "id": "g2fzaZ9VJ2m1"
      },
      "source": [
        "import numpy as np #linear algebra\n",
        "from scipy import stats #stats\n",
        "import matplotlib.pyplot as plt #data visualization\n",
        "import seaborn as sns #data visualization\n",
        "from scipy.stats import ttest_ind #t-test"
      ],
      "execution_count": null,
      "outputs": []
    },
    {
      "cell_type": "code",
      "metadata": {
        "colab": {
          "base_uri": "https://localhost:8080/",
          "height": 289
        },
        "id": "d8Eitm4WJ5wU",
        "outputId": "a9fd11f8-4c1c-4abc-bd91-3a73979191e6"
      },
      "source": [
        "df.head()"
      ],
      "execution_count": null,
      "outputs": [
        {
          "output_type": "execute_result",
          "data": {
            "text/html": [
              "<div>\n",
              "<style scoped>\n",
              "    .dataframe tbody tr th:only-of-type {\n",
              "        vertical-align: middle;\n",
              "    }\n",
              "\n",
              "    .dataframe tbody tr th {\n",
              "        vertical-align: top;\n",
              "    }\n",
              "\n",
              "    .dataframe thead th {\n",
              "        text-align: right;\n",
              "    }\n",
              "</style>\n",
              "<table border=\"1\" class=\"dataframe\">\n",
              "  <thead>\n",
              "    <tr style=\"text-align: right;\">\n",
              "      <th></th>\n",
              "      <th>Country</th>\n",
              "      <th>Year</th>\n",
              "      <th>Gini_index</th>\n",
              "      <th>Palma</th>\n",
              "      <th>Ratio_Top20_Bottom20</th>\n",
              "      <th>Bottom40</th>\n",
              "      <th>Region</th>\n",
              "      <th>Sub_Region</th>\n",
              "      <th>OECD</th>\n",
              "      <th>GDP_PPP_USD2011</th>\n",
              "      <th>Population</th>\n",
              "    </tr>\n",
              "  </thead>\n",
              "  <tbody>\n",
              "    <tr>\n",
              "      <th>0</th>\n",
              "      <td>Afghanistan</td>\n",
              "      <td>2012.0</td>\n",
              "      <td>33.00</td>\n",
              "      <td>NaN</td>\n",
              "      <td>4.11</td>\n",
              "      <td>23.00</td>\n",
              "      <td>Asia</td>\n",
              "      <td>Southern Asia</td>\n",
              "      <td>Non-OECD</td>\n",
              "      <td>1773.0</td>\n",
              "      <td>31161378.0</td>\n",
              "    </tr>\n",
              "    <tr>\n",
              "      <th>1</th>\n",
              "      <td>Afghanistan</td>\n",
              "      <td>2017.0</td>\n",
              "      <td>31.00</td>\n",
              "      <td>NaN</td>\n",
              "      <td>4.44</td>\n",
              "      <td>22.00</td>\n",
              "      <td>Asia</td>\n",
              "      <td>Southern Asia</td>\n",
              "      <td>Non-OECD</td>\n",
              "      <td>1758.0</td>\n",
              "      <td>36296108.0</td>\n",
              "    </tr>\n",
              "    <tr>\n",
              "      <th>2</th>\n",
              "      <td>Albania</td>\n",
              "      <td>2012.0</td>\n",
              "      <td>28.96</td>\n",
              "      <td>1.04</td>\n",
              "      <td>4.27</td>\n",
              "      <td>22.02</td>\n",
              "      <td>Europe</td>\n",
              "      <td>Southern Europe</td>\n",
              "      <td>Non-OECD</td>\n",
              "      <td>10321.0</td>\n",
              "      <td>2914091.0</td>\n",
              "    </tr>\n",
              "    <tr>\n",
              "      <th>3</th>\n",
              "      <td>Algeria</td>\n",
              "      <td>2012.0</td>\n",
              "      <td>27.62</td>\n",
              "      <td>0.99</td>\n",
              "      <td>3.98</td>\n",
              "      <td>23.02</td>\n",
              "      <td>Africa</td>\n",
              "      <td>Northern Africa</td>\n",
              "      <td>Non-OECD</td>\n",
              "      <td>13226.0</td>\n",
              "      <td>37383900.0</td>\n",
              "    </tr>\n",
              "    <tr>\n",
              "      <th>4</th>\n",
              "      <td>Andorra</td>\n",
              "      <td>2016.0</td>\n",
              "      <td>27.96</td>\n",
              "      <td>1.00</td>\n",
              "      <td>3.91</td>\n",
              "      <td>23.10</td>\n",
              "      <td>Europe</td>\n",
              "      <td>Southern Europe</td>\n",
              "      <td>Non-OECD</td>\n",
              "      <td>NaN</td>\n",
              "      <td>77295.0</td>\n",
              "    </tr>\n",
              "  </tbody>\n",
              "</table>\n",
              "</div>"
            ],
            "text/plain": [
              "       Country    Year  Gini_index  ...      OECD  GDP_PPP_USD2011  Population\n",
              "0  Afghanistan  2012.0       33.00  ...  Non-OECD           1773.0  31161378.0\n",
              "1  Afghanistan  2017.0       31.00  ...  Non-OECD           1758.0  36296108.0\n",
              "2      Albania  2012.0       28.96  ...  Non-OECD          10321.0   2914091.0\n",
              "3      Algeria  2012.0       27.62  ...  Non-OECD          13226.0  37383900.0\n",
              "4      Andorra  2016.0       27.96  ...  Non-OECD              NaN     77295.0\n",
              "\n",
              "[5 rows x 11 columns]"
            ]
          },
          "metadata": {
            "tags": []
          },
          "execution_count": 5
        }
      ]
    },
    {
      "cell_type": "code",
      "metadata": {
        "colab": {
          "base_uri": "https://localhost:8080/"
        },
        "id": "Y90Zo7FeJ_2I",
        "outputId": "dc67a5a7-7428-4584-fc13-1a7d5d04d5a2"
      },
      "source": [
        "# missing values?\n",
        "df.isna().sum()\n",
        "\n",
        "#There's are missing values in all of the columns in the data set. "
      ],
      "execution_count": null,
      "outputs": [
        {
          "output_type": "execute_result",
          "data": {
            "text/plain": [
              "Country                   1\n",
              "Year                      1\n",
              "Gini_index               57\n",
              "Palma                   846\n",
              "Ratio_Top20_Bottom20    741\n",
              "Bottom40                727\n",
              "Region                    1\n",
              "Sub_Region                1\n",
              "OECD                      1\n",
              "GDP_PPP_USD2011          56\n",
              "Population                1\n",
              "dtype: int64"
            ]
          },
          "metadata": {
            "tags": []
          },
          "execution_count": 6
        }
      ]
    },
    {
      "cell_type": "code",
      "metadata": {
        "colab": {
          "base_uri": "https://localhost:8080/"
        },
        "id": "UzXUJnxKKIRv",
        "outputId": "6c5a6ef0-50b0-4bff-936e-cb84ef182b07"
      },
      "source": [
        "#Deleting the 1 values in Country\n",
        "df = df.dropna(subset=['Country'])\n",
        "# return number of missing values\n",
        "print(df['Country'].isna().sum())"
      ],
      "execution_count": null,
      "outputs": [
        {
          "output_type": "stream",
          "text": [
            "0\n"
          ],
          "name": "stdout"
        }
      ]
    },
    {
      "cell_type": "code",
      "metadata": {
        "colab": {
          "base_uri": "https://localhost:8080/"
        },
        "id": "eUYiWBYpKjNb",
        "outputId": "8ee6fb20-c0cc-4a46-df36-06d6513035e1"
      },
      "source": [
        "#Deleting the 2 values in Year\n",
        "df = df.dropna(subset=['Year'])\n",
        "# return number of missing values\n",
        "print(df['Year'].isna().sum())"
      ],
      "execution_count": null,
      "outputs": [
        {
          "output_type": "stream",
          "text": [
            "0\n"
          ],
          "name": "stdout"
        }
      ]
    },
    {
      "cell_type": "code",
      "metadata": {
        "colab": {
          "base_uri": "https://localhost:8080/"
        },
        "id": "YrzognH9KuIU",
        "outputId": "89dd90f0-4f50-4a7b-ca1c-641812f161b0"
      },
      "source": [
        "#Deleting the 57 values in Gini_index\n",
        "df = df.dropna(subset=['Gini_index'])\n",
        "# return number of missing values\n",
        "print(df['Gini_index'].isna().sum())"
      ],
      "execution_count": null,
      "outputs": [
        {
          "output_type": "stream",
          "text": [
            "0\n"
          ],
          "name": "stdout"
        }
      ]
    },
    {
      "cell_type": "code",
      "metadata": {
        "colab": {
          "base_uri": "https://localhost:8080/"
        },
        "id": "tr1l-Z_fK3UR",
        "outputId": "779d211c-a267-4cec-e32f-3bc881872395"
      },
      "source": [
        "#Deleting the 846 values in Palma\n",
        "df = df.dropna(subset=['Palma'])\n",
        "# return number of missing values\n",
        "print(df['Palma'].isna().sum())"
      ],
      "execution_count": null,
      "outputs": [
        {
          "output_type": "stream",
          "text": [
            "0\n"
          ],
          "name": "stdout"
        }
      ]
    },
    {
      "cell_type": "code",
      "metadata": {
        "colab": {
          "base_uri": "https://localhost:8080/"
        },
        "id": "fLa1v2fTLAz6",
        "outputId": "e26b8e84-97a0-4f98-aa7b-f31a0b6c817f"
      },
      "source": [
        "#Deleting the 741 values in Ratio: [top20_bottom20]\n",
        "df = df.dropna(subset=['Ratio_Top20_Bottom20'])\n",
        "# return number of missing values\n",
        "print(df['Ratio_Top20_Bottom20'].isna().sum())"
      ],
      "execution_count": null,
      "outputs": [
        {
          "output_type": "stream",
          "text": [
            "0\n"
          ],
          "name": "stdout"
        }
      ]
    },
    {
      "cell_type": "code",
      "metadata": {
        "colab": {
          "base_uri": "https://localhost:8080/"
        },
        "id": "ZqZa0N73LbeP",
        "outputId": "072b9c5e-5602-48f8-9681-91d2b3f18c99"
      },
      "source": [
        "#Deleting the 727 values in Bottom 40\n",
        "df = df.dropna(subset=['Bottom40'])\n",
        "# return number of missing values\n",
        "print(df['Bottom40'].isna().sum())"
      ],
      "execution_count": null,
      "outputs": [
        {
          "output_type": "stream",
          "text": [
            "0\n"
          ],
          "name": "stdout"
        }
      ]
    },
    {
      "cell_type": "code",
      "metadata": {
        "colab": {
          "base_uri": "https://localhost:8080/"
        },
        "id": "VUwqtIycLoex",
        "outputId": "4f596b0f-f39b-4df6-ad29-a7ec4ba96687"
      },
      "source": [
        "#Deleting the 2 values in Region\n",
        "df = df.dropna(subset=['Region'])\n",
        "# return number of missing values\n",
        "print(df['Region'].isna().sum())"
      ],
      "execution_count": null,
      "outputs": [
        {
          "output_type": "stream",
          "text": [
            "0\n"
          ],
          "name": "stdout"
        }
      ]
    },
    {
      "cell_type": "code",
      "metadata": {
        "colab": {
          "base_uri": "https://localhost:8080/"
        },
        "id": "v9CbzN0pL9Ad",
        "outputId": "f0b47a39-dd01-4af0-edff-f60b77b45671"
      },
      "source": [
        "#Deleting the 2 values in Region\n",
        "df = df.dropna(subset=['Sub_Region'])\n",
        "# return number of missing values\n",
        "print(df['Sub_Region'].isna().sum())"
      ],
      "execution_count": null,
      "outputs": [
        {
          "output_type": "stream",
          "text": [
            "0\n"
          ],
          "name": "stdout"
        }
      ]
    },
    {
      "cell_type": "code",
      "metadata": {
        "colab": {
          "base_uri": "https://localhost:8080/"
        },
        "id": "HICTNfS1MKs4",
        "outputId": "1bdcc4ab-fda4-4b6e-a9c7-39488e590405"
      },
      "source": [
        "#Deleting the 2 values in OECD\n",
        "df = df.dropna(subset=['OECD'])\n",
        "# return number of missing values\n",
        "print(df['OECD'].isna().sum())"
      ],
      "execution_count": null,
      "outputs": [
        {
          "output_type": "stream",
          "text": [
            "0\n"
          ],
          "name": "stdout"
        }
      ]
    },
    {
      "cell_type": "code",
      "metadata": {
        "colab": {
          "base_uri": "https://localhost:8080/"
        },
        "id": "TNoPmMZwMYFB",
        "outputId": "874c48b5-7451-4eba-d4cc-928180d7eb5f"
      },
      "source": [
        "#Deleting the 2 values in GDP_PPP\n",
        "df = df.dropna(subset=['GDP_PPP_USD2011'])\n",
        "# return number of missing values\n",
        "print(df['GDP_PPP_USD2011'].isna().sum())"
      ],
      "execution_count": null,
      "outputs": [
        {
          "output_type": "stream",
          "text": [
            "0\n"
          ],
          "name": "stdout"
        }
      ]
    },
    {
      "cell_type": "code",
      "metadata": {
        "colab": {
          "base_uri": "https://localhost:8080/"
        },
        "id": "hbg5GIKEMu6r",
        "outputId": "d34293ff-f521-4dd3-f5a3-ae7253b688f8"
      },
      "source": [
        "#Deleting the 2 values in Population\n",
        "df = df.dropna(subset=['Population'])\n",
        "# return number of missing values\n",
        "print(df['Population'].isna().sum())"
      ],
      "execution_count": null,
      "outputs": [
        {
          "output_type": "stream",
          "text": [
            "0\n"
          ],
          "name": "stdout"
        }
      ]
    },
    {
      "cell_type": "code",
      "metadata": {
        "colab": {
          "base_uri": "https://localhost:8080/"
        },
        "id": "SFCAV1SPNQaa",
        "outputId": "c0a56b8e-49f5-4e0a-ccc4-786bb55c8586"
      },
      "source": [
        "# confirmed\n",
        "df.isna().sum()"
      ],
      "execution_count": null,
      "outputs": [
        {
          "output_type": "execute_result",
          "data": {
            "text/plain": [
              "Country                 0\n",
              "Year                    0\n",
              "Gini_index              0\n",
              "Palma                   0\n",
              "Ratio_Top20_Bottom20    0\n",
              "Bottom40                0\n",
              "Region                  0\n",
              "Sub_Region              0\n",
              "OECD                    0\n",
              "GDP_PPP_USD2011         0\n",
              "Population              0\n",
              "dtype: int64"
            ]
          },
          "metadata": {
            "tags": []
          },
          "execution_count": 23
        }
      ]
    },
    {
      "cell_type": "markdown",
      "metadata": {
        "id": "MdE6MAeeNa9o"
      },
      "source": [
        "# **Incomes(GDP_PPP) vs. Region**"
      ]
    },
    {
      "cell_type": "code",
      "metadata": {
        "colab": {
          "base_uri": "https://localhost:8080/",
          "height": 235
        },
        "id": "tSiUCeM10rI_",
        "outputId": "3f4263cb-0998-494d-ac22-5c2d703b6eac"
      },
      "source": [
        "#grouping of regions \n",
        "gb = df.groupby([\"Region\"], as_index=False)['GDP_PPP_USD2011'].agg([\"mean\"])\n",
        "gb\n",
        "#Sorting the GDP averages into ascending order.\n",
        "gb.sort_values('mean')"
      ],
      "execution_count": null,
      "outputs": [
        {
          "output_type": "execute_result",
          "data": {
            "text/html": [
              "<div>\n",
              "<style scoped>\n",
              "    .dataframe tbody tr th:only-of-type {\n",
              "        vertical-align: middle;\n",
              "    }\n",
              "\n",
              "    .dataframe tbody tr th {\n",
              "        vertical-align: top;\n",
              "    }\n",
              "\n",
              "    .dataframe thead th {\n",
              "        text-align: right;\n",
              "    }\n",
              "</style>\n",
              "<table border=\"1\" class=\"dataframe\">\n",
              "  <thead>\n",
              "    <tr style=\"text-align: right;\">\n",
              "      <th></th>\n",
              "      <th>mean</th>\n",
              "    </tr>\n",
              "    <tr>\n",
              "      <th>Region</th>\n",
              "      <th></th>\n",
              "    </tr>\n",
              "  </thead>\n",
              "  <tbody>\n",
              "    <tr>\n",
              "      <th>Africa</th>\n",
              "      <td>5845.844444</td>\n",
              "    </tr>\n",
              "    <tr>\n",
              "      <th>Asia</th>\n",
              "      <td>15754.555970</td>\n",
              "    </tr>\n",
              "    <tr>\n",
              "      <th>Americas</th>\n",
              "      <td>15896.967690</td>\n",
              "    </tr>\n",
              "    <tr>\n",
              "      <th>Oceania</th>\n",
              "      <td>27463.956522</td>\n",
              "    </tr>\n",
              "    <tr>\n",
              "      <th>Europe</th>\n",
              "      <td>34017.324289</td>\n",
              "    </tr>\n",
              "  </tbody>\n",
              "</table>\n",
              "</div>"
            ],
            "text/plain": [
              "                  mean\n",
              "Region                \n",
              "Africa     5845.844444\n",
              "Asia      15754.555970\n",
              "Americas  15896.967690\n",
              "Oceania   27463.956522\n",
              "Europe    34017.324289"
            ]
          },
          "metadata": {
            "tags": []
          },
          "execution_count": 99
        }
      ]
    },
    {
      "cell_type": "code",
      "metadata": {
        "colab": {
          "base_uri": "https://localhost:8080/",
          "height": 762
        },
        "id": "Ywlk8snWNUBa",
        "outputId": "4b961e1a-83f1-452b-b383-b042c05221f8"
      },
      "source": [
        "#Which Region has has the highest buying power(GDP_PPP)?\n",
        "#North America\n",
        "\n",
        "#Grouping of sub_regions \n",
        "gb1=df.groupby([\"Sub_Region\"], as_index=False)['GDP_PPP_USD2011'].agg([\"mean\"])\n",
        "gb1\n",
        "#Sorting the GDP sub_region averages into ascending order.\n",
        "gb1.sort_values('mean')"
      ],
      "execution_count": null,
      "outputs": [
        {
          "output_type": "execute_result",
          "data": {
            "text/html": [
              "<div>\n",
              "<style scoped>\n",
              "    .dataframe tbody tr th:only-of-type {\n",
              "        vertical-align: middle;\n",
              "    }\n",
              "\n",
              "    .dataframe tbody tr th {\n",
              "        vertical-align: top;\n",
              "    }\n",
              "\n",
              "    .dataframe thead th {\n",
              "        text-align: right;\n",
              "    }\n",
              "</style>\n",
              "<table border=\"1\" class=\"dataframe\">\n",
              "  <thead>\n",
              "    <tr style=\"text-align: right;\">\n",
              "      <th></th>\n",
              "      <th>mean</th>\n",
              "    </tr>\n",
              "    <tr>\n",
              "      <th>Sub_Region</th>\n",
              "      <th></th>\n",
              "    </tr>\n",
              "  </thead>\n",
              "  <tbody>\n",
              "    <tr>\n",
              "      <th>Western Africa</th>\n",
              "      <td>2286.040000</td>\n",
              "    </tr>\n",
              "    <tr>\n",
              "      <th>Eastern Africa</th>\n",
              "      <td>3049.814815</td>\n",
              "    </tr>\n",
              "    <tr>\n",
              "      <th>Melanesia</th>\n",
              "      <td>4141.500000</td>\n",
              "    </tr>\n",
              "    <tr>\n",
              "      <th>Polynesia</th>\n",
              "      <td>4663.333333</td>\n",
              "    </tr>\n",
              "    <tr>\n",
              "      <th>Middle Africa</th>\n",
              "      <td>4964.500000</td>\n",
              "    </tr>\n",
              "    <tr>\n",
              "      <th>Southern Asia</th>\n",
              "      <td>6613.111111</td>\n",
              "    </tr>\n",
              "    <tr>\n",
              "      <th>Micronesia</th>\n",
              "      <td>8066.500000</td>\n",
              "    </tr>\n",
              "    <tr>\n",
              "      <th>Northern Africa</th>\n",
              "      <td>10177.000000</td>\n",
              "    </tr>\n",
              "    <tr>\n",
              "      <th>Southern Africa</th>\n",
              "      <td>11532.608696</td>\n",
              "    </tr>\n",
              "    <tr>\n",
              "      <th>Central America</th>\n",
              "      <td>11998.015625</td>\n",
              "    </tr>\n",
              "    <tr>\n",
              "      <th>Caribbean</th>\n",
              "      <td>12008.800000</td>\n",
              "    </tr>\n",
              "    <tr>\n",
              "      <th>Central Asia</th>\n",
              "      <td>12265.588235</td>\n",
              "    </tr>\n",
              "    <tr>\n",
              "      <th>South-eastern Asia</th>\n",
              "      <td>12649.686275</td>\n",
              "    </tr>\n",
              "    <tr>\n",
              "      <th>South America</th>\n",
              "      <td>13961.311377</td>\n",
              "    </tr>\n",
              "    <tr>\n",
              "      <th>Western Asia</th>\n",
              "      <td>19415.378641</td>\n",
              "    </tr>\n",
              "    <tr>\n",
              "      <th>Eastern Asia</th>\n",
              "      <td>20599.961538</td>\n",
              "    </tr>\n",
              "    <tr>\n",
              "      <th>Eastern Europe</th>\n",
              "      <td>22441.045918</td>\n",
              "    </tr>\n",
              "    <tr>\n",
              "      <th>Southern Europe</th>\n",
              "      <td>24215.372449</td>\n",
              "    </tr>\n",
              "    <tr>\n",
              "      <th>Northern Europe</th>\n",
              "      <td>39927.046296</td>\n",
              "    </tr>\n",
              "    <tr>\n",
              "      <th>Australia and New Zealand</th>\n",
              "      <td>41784.428571</td>\n",
              "    </tr>\n",
              "    <tr>\n",
              "      <th>Northern America</th>\n",
              "      <td>45154.226415</td>\n",
              "    </tr>\n",
              "    <tr>\n",
              "      <th>Western Europe</th>\n",
              "      <td>51569.331325</td>\n",
              "    </tr>\n",
              "  </tbody>\n",
              "</table>\n",
              "</div>"
            ],
            "text/plain": [
              "                                   mean\n",
              "Sub_Region                             \n",
              "Western Africa              2286.040000\n",
              "Eastern Africa              3049.814815\n",
              "Melanesia                   4141.500000\n",
              "Polynesia                   4663.333333\n",
              "Middle Africa               4964.500000\n",
              "Southern Asia               6613.111111\n",
              "Micronesia                  8066.500000\n",
              "Northern Africa            10177.000000\n",
              "Southern Africa            11532.608696\n",
              "Central America            11998.015625\n",
              "Caribbean                  12008.800000\n",
              "Central Asia               12265.588235\n",
              "South-eastern Asia         12649.686275\n",
              "South America              13961.311377\n",
              "Western Asia               19415.378641\n",
              "Eastern Asia               20599.961538\n",
              "Eastern Europe             22441.045918\n",
              "Southern Europe            24215.372449\n",
              "Northern Europe            39927.046296\n",
              "Australia and New Zealand  41784.428571\n",
              "Northern America           45154.226415\n",
              "Western Europe             51569.331325"
            ]
          },
          "metadata": {
            "tags": []
          },
          "execution_count": 101
        }
      ]
    },
    {
      "cell_type": "code",
      "metadata": {
        "colab": {
          "base_uri": "https://localhost:8080/",
          "height": 594
        },
        "id": "vFJ-VMZvN56U",
        "outputId": "def601ff-ab01-442a-f74b-897797d2dd0f"
      },
      "source": [
        "#This Pie chart shows the avg GDP buying power by region, emphasizing greater buying power in developed nations\n",
        "# vs. developing nations. However, despite possessing higher salaries on avg, there has been a continual rise in income \n",
        "# inequality in developed nations. \n",
        "labels = 'North America', 'South America', 'Asia' , 'Europe', 'Africa' ,'Oceania' # 'Bar' and 'Can' because they only appear once in our data.\n",
        "size = [45154,13961,15754,34017,5845,27463]\n",
        "\n",
        "f, ax = plt.subplots(1,1, figsize= (10,10))\n",
        "\n",
        "ax.pie(size, labels = labels, autopct = '%1.2f%%', startangle = 180)\n",
        "ax.axis('equal')\n",
        "ax.set_title(\"GDP_PPP_2011\", size = 20)\n",
        "\n",
        "plt.show()"
      ],
      "execution_count": null,
      "outputs": [
        {
          "output_type": "display_data",
          "data": {
            "image/png": "[encoded data removed]",
            "text/plain": [
              "<Figure size 720x720 with 1 Axes>"
            ]
          },
          "metadata": {
            "tags": []
          }
        }
      ]
    },
    {
      "cell_type": "markdown",
      "metadata": {
        "id": "C7OiSG8DAGGF"
      },
      "source": [
        "#From the chart below it can be seen that over the last 40-yrs there has been rise in inequality in developed nations, while there's been a drop or little to no change in developing nations. The question is why?\n",
        "\n",
        "![Screen Shot 2021-04-02 at 9.40.33 AM.png](data:image/png;base64,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)\n",
        "\n",
        "![Screen Shot 2021-04-02 at 9.45.38 AM.png](data:image/png;base64,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)"
      ]
    },
    {
      "cell_type": "markdown",
      "metadata": {
        "id": "Q0EKa8sJEaOF"
      },
      "source": [
        "Studies show that due to a rise in tech-jobs v.s. a decline in middle-skilled jobs (employment that usually propped up the middle-class) has led to the growth\n",
        "of income inequality over the last 40-yrs, where old jobs are constantly being replaced by software and industial machines. "
      ]
    },
    {
      "cell_type": "markdown",
      "metadata": {
        "id": "7Yy7RYXl3Mq1"
      },
      "source": [
        "# **Hypothesis One**\n",
        "\n",
        "**H0:**  There is no statistically significant difference in the mean purchasing power between Western Europe and North America \n",
        "\n",
        "**Ha**: ** There is a statistically significant difference in the mean purchasing power between Western Europe and North America \n",
        "\n"
      ]
    },
    {
      "cell_type": "code",
      "metadata": {
        "id": "w9TbGS3s5L0V"
      },
      "source": [
        "#defining variables\n",
        "a = df.query('Sub_Region == \"Western Europe\"')[\"GDP_PPP_USD2011\"]\n",
        "b = df.query('Sub_Region == \"Northern America\"')[\"GDP_PPP_USD2011\"]"
      ],
      "execution_count": null,
      "outputs": []
    },
    {
      "cell_type": "code",
      "metadata": {
        "colab": {
          "base_uri": "https://localhost:8080/"
        },
        "id": "-CdXPZrsB5xc",
        "outputId": "73cb31c9-4c35-439c-b609-19e38f0e0ff2"
      },
      "source": [
        "#t-test\n",
        "ttest_ind(a,b)"
      ],
      "execution_count": null,
      "outputs": [
        {
          "output_type": "execute_result",
          "data": {
            "text/plain": [
              "Ttest_indResult(statistic=2.7040284478488688, pvalue=0.007393552644573076)"
            ]
          },
          "metadata": {
            "tags": []
          },
          "execution_count": 114
        }
      ]
    },
    {
      "cell_type": "markdown",
      "metadata": {
        "id": "NnBuO3LZ_027"
      },
      "source": [
        "![CI interval.png](data:image/png;base64,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)"
      ]
    },
    {
      "cell_type": "markdown",
      "metadata": {
        "id": "1cb3ys9j_KxH"
      },
      "source": [
        "Due to the US's knack for innovation, it leads North America in tech, however because of this raid growth, it had left many America's with declining buying power. Which the probability test suggests in not simply an anomonly when compared to Western Europe.  "
      ]
    },
    {
      "cell_type": "markdown",
      "metadata": {
        "id": "BKvXhNB3uMvS"
      },
      "source": [
        "There is statistical significant difference in means at the 0.007 level, so we reject the null hypothesis."
      ]
    },
    {
      "cell_type": "markdown",
      "metadata": {
        "id": "YUjrr3elmtB3"
      },
      "source": [
        "# **Gini Coefficient by Region**"
      ]
    },
    {
      "cell_type": "code",
      "metadata": {
        "colab": {
          "base_uri": "https://localhost:8080/",
          "height": 235
        },
        "id": "tqwDx78Am5cG",
        "outputId": "a16de30d-dda3-4d97-ef76-b83653b962ad"
      },
      "source": [
        "#The Gini Coeffiecent, a measurement of inequality by region, shows that the \n",
        "#Americas is not far behind Africa when it comes to high inequality. \n",
        "\n",
        "#The Gini Coefficent measures regions with the highest Wealth Inequality \n",
        "gb2 = df.groupby([\"Region\"], as_index=False)['Gini_index'].agg([\"mean\"])\n",
        "gb2\n",
        "#Sorting the GDP averages into descending order.\n",
        "gb2.sort_values('mean',ascending=False)"
      ],
      "execution_count": null,
      "outputs": [
        {
          "output_type": "execute_result",
          "data": {
            "text/html": [
              "<div>\n",
              "<style scoped>\n",
              "    .dataframe tbody tr th:only-of-type {\n",
              "        vertical-align: middle;\n",
              "    }\n",
              "\n",
              "    .dataframe tbody tr th {\n",
              "        vertical-align: top;\n",
              "    }\n",
              "\n",
              "    .dataframe thead th {\n",
              "        text-align: right;\n",
              "    }\n",
              "</style>\n",
              "<table border=\"1\" class=\"dataframe\">\n",
              "  <thead>\n",
              "    <tr style=\"text-align: right;\">\n",
              "      <th></th>\n",
              "      <th>mean</th>\n",
              "    </tr>\n",
              "    <tr>\n",
              "      <th>Region</th>\n",
              "      <th></th>\n",
              "    </tr>\n",
              "  </thead>\n",
              "  <tbody>\n",
              "    <tr>\n",
              "      <th>Africa</th>\n",
              "      <td>47.517000</td>\n",
              "    </tr>\n",
              "    <tr>\n",
              "      <th>Americas</th>\n",
              "      <td>45.691680</td>\n",
              "    </tr>\n",
              "    <tr>\n",
              "      <th>Oceania</th>\n",
              "      <td>37.023913</td>\n",
              "    </tr>\n",
              "    <tr>\n",
              "      <th>Asia</th>\n",
              "      <td>36.877090</td>\n",
              "    </tr>\n",
              "    <tr>\n",
              "      <th>Europe</th>\n",
              "      <td>30.797481</td>\n",
              "    </tr>\n",
              "  </tbody>\n",
              "</table>\n",
              "</div>"
            ],
            "text/plain": [
              "               mean\n",
              "Region             \n",
              "Africa    47.517000\n",
              "Americas  45.691680\n",
              "Oceania   37.023913\n",
              "Asia      36.877090\n",
              "Europe    30.797481"
            ]
          },
          "metadata": {
            "tags": []
          },
          "execution_count": 133
        }
      ]
    },
    {
      "cell_type": "code",
      "metadata": {
        "colab": {
          "base_uri": "https://localhost:8080/",
          "height": 762
        },
        "id": "w3tmdD_KnfiM",
        "outputId": "3baa56ac-2655-480d-b0b0-72da468ac7bf"
      },
      "source": [
        "# Even breaking down the Gini Coeffienct into sub-regions shows that North America \n",
        "# is not far behind the levels of inequality is South East Asia (i.e. Laos, Camboida, Vietnam) \n",
        "# or Western Africa (Nigeria, Togo, Ghana, etc.). \n",
        "\n",
        "#Although not shown here. When the US is decoupled from Canada, the rate of\n",
        "#inequality skyrockets by 20%. \n",
        "\n",
        "#The Gini Coefficent measures sub_region with the highest Wealth Inequality \n",
        "gb3 = df.groupby([\"Sub_Region\"], as_index=False)['Gini_index'].agg([\"mean\"])\n",
        "gb3\n",
        "#Sorting the GDP averages into descending order.\n",
        "gb3.sort_values('mean',ascending=False)"
      ],
      "execution_count": null,
      "outputs": [
        {
          "output_type": "execute_result",
          "data": {
            "text/html": [
              "<div>\n",
              "<style scoped>\n",
              "    .dataframe tbody tr th:only-of-type {\n",
              "        vertical-align: middle;\n",
              "    }\n",
              "\n",
              "    .dataframe tbody tr th {\n",
              "        vertical-align: top;\n",
              "    }\n",
              "\n",
              "    .dataframe thead th {\n",
              "        text-align: right;\n",
              "    }\n",
              "</style>\n",
              "<table border=\"1\" class=\"dataframe\">\n",
              "  <thead>\n",
              "    <tr style=\"text-align: right;\">\n",
              "      <th></th>\n",
              "      <th>mean</th>\n",
              "    </tr>\n",
              "    <tr>\n",
              "      <th>Sub_Region</th>\n",
              "      <th></th>\n",
              "    </tr>\n",
              "  </thead>\n",
              "  <tbody>\n",
              "    <tr>\n",
              "      <th>Southern Africa</th>\n",
              "      <td>63.903043</td>\n",
              "    </tr>\n",
              "    <tr>\n",
              "      <th>Central America</th>\n",
              "      <td>47.670833</td>\n",
              "    </tr>\n",
              "    <tr>\n",
              "      <th>South America</th>\n",
              "      <td>45.954042</td>\n",
              "    </tr>\n",
              "    <tr>\n",
              "      <th>Micronesia</th>\n",
              "      <td>45.530000</td>\n",
              "    </tr>\n",
              "    <tr>\n",
              "      <th>Caribbean</th>\n",
              "      <td>44.908500</td>\n",
              "    </tr>\n",
              "    <tr>\n",
              "      <th>Eastern Africa</th>\n",
              "      <td>44.441111</td>\n",
              "    </tr>\n",
              "    <tr>\n",
              "      <th>Middle Africa</th>\n",
              "      <td>41.640000</td>\n",
              "    </tr>\n",
              "    <tr>\n",
              "      <th>Western Africa</th>\n",
              "      <td>41.020400</td>\n",
              "    </tr>\n",
              "    <tr>\n",
              "      <th>Southern Asia</th>\n",
              "      <td>38.704889</td>\n",
              "    </tr>\n",
              "    <tr>\n",
              "      <th>Polynesia</th>\n",
              "      <td>38.486667</td>\n",
              "    </tr>\n",
              "    <tr>\n",
              "      <th>Melanesia</th>\n",
              "      <td>38.307500</td>\n",
              "    </tr>\n",
              "    <tr>\n",
              "      <th>South-eastern Asia</th>\n",
              "      <td>38.111176</td>\n",
              "    </tr>\n",
              "    <tr>\n",
              "      <th>Northern America</th>\n",
              "      <td>37.459623</td>\n",
              "    </tr>\n",
              "    <tr>\n",
              "      <th>Western Asia</th>\n",
              "      <td>37.048835</td>\n",
              "    </tr>\n",
              "    <tr>\n",
              "      <th>Northern Africa</th>\n",
              "      <td>36.833333</td>\n",
              "    </tr>\n",
              "    <tr>\n",
              "      <th>Eastern Asia</th>\n",
              "      <td>36.613077</td>\n",
              "    </tr>\n",
              "    <tr>\n",
              "      <th>Australia and New Zealand</th>\n",
              "      <td>35.128571</td>\n",
              "    </tr>\n",
              "    <tr>\n",
              "      <th>Southern Europe</th>\n",
              "      <td>32.172602</td>\n",
              "    </tr>\n",
              "    <tr>\n",
              "      <th>Eastern Europe</th>\n",
              "      <td>30.629541</td>\n",
              "    </tr>\n",
              "    <tr>\n",
              "      <th>Northern Europe</th>\n",
              "      <td>30.334769</td>\n",
              "    </tr>\n",
              "    <tr>\n",
              "      <th>Western Europe</th>\n",
              "      <td>29.974217</td>\n",
              "    </tr>\n",
              "    <tr>\n",
              "      <th>Central Asia</th>\n",
              "      <td>28.103529</td>\n",
              "    </tr>\n",
              "  </tbody>\n",
              "</table>\n",
              "</div>"
            ],
            "text/plain": [
              "                                mean\n",
              "Sub_Region                          \n",
              "Southern Africa            63.903043\n",
              "Central America            47.670833\n",
              "South America              45.954042\n",
              "Micronesia                 45.530000\n",
              "Caribbean                  44.908500\n",
              "Eastern Africa             44.441111\n",
              "Middle Africa              41.640000\n",
              "Western Africa             41.020400\n",
              "Southern Asia              38.704889\n",
              "Polynesia                  38.486667\n",
              "Melanesia                  38.307500\n",
              "South-eastern Asia         38.111176\n",
              "Northern America           37.459623\n",
              "Western Asia               37.048835\n",
              "Northern Africa            36.833333\n",
              "Eastern Asia               36.613077\n",
              "Australia and New Zealand  35.128571\n",
              "Southern Europe            32.172602\n",
              "Eastern Europe             30.629541\n",
              "Northern Europe            30.334769\n",
              "Western Europe             29.974217\n",
              "Central Asia               28.103529"
            ]
          },
          "metadata": {
            "tags": []
          },
          "execution_count": 117
        }
      ]
    },
    {
      "cell_type": "markdown",
      "metadata": {
        "id": "Fiyh-7AqpmTq"
      },
      "source": [
        "# **Visualization: Gini Coefficent by Region/Sub_Regions**"
      ]
    },
    {
      "cell_type": "code",
      "metadata": {
        "colab": {
          "base_uri": "https://localhost:8080/",
          "height": 321
        },
        "id": "7qj4CcPJpz_g",
        "outputId": "15caafa0-7bb5-4502-8be2-220e81f7dbf0"
      },
      "source": [
        "# This graph better dictates the rate of inequality over six continents/regions,\n",
        "# matching N.America with the whole of Asia when it comes to rates of inequality.\n",
        "# which is startling since majority of Asia is still a developing region.   \n",
        "\n",
        "\n",
        "labels=['N. America', 'S. America', 'Asia' , 'Europe', 'Africa' ,'Oceania']\n",
        "values=[37,46,37,31,48,37]\n",
        "colors=[\"green\",\"green\",\"green\",\"green\",\"red\",\"green\"]\n",
        "plt.xticks(rotation=90)\n",
        "plt.bar(labels,values, color=colors)\n",
        "\n",
        "plt.ylabel(\"Gini Index\")\n",
        "plt.show()"
      ],
      "execution_count": null,
      "outputs": [
        {
          "output_type": "display_data",
          "data": {
            "image/png": "[encoded data removed]",
            "text/plain": [
              "<Figure size 432x288 with 1 Axes>"
            ]
          },
          "metadata": {
            "tags": []
          }
        }
      ]
    },
    {
      "cell_type": "markdown",
      "metadata": {
        "id": "5UZG_DJ5Bw0K"
      },
      "source": [
        "Gini Index measures the level of inequality by region/country. This graph points out the regions with the highest inequality (Africa) and the lowest inequality (Europe). "
      ]
    },
    {
      "cell_type": "markdown",
      "metadata": {
        "id": "D8qxlMGNscrW"
      },
      "source": [
        "**Hypothesis Two**\n",
        "\n",
        "**H0:** There is no statistically significant difference between income inequality in North America and Western Africa. \n",
        "\n",
        "**Ha:** There is a statistically significant difference difference between income inequality in North America and Western Africa. \n"
      ]
    },
    {
      "cell_type": "code",
      "metadata": {
        "id": "_9LhLXjns-6p"
      },
      "source": [
        "#defining variables\n",
        "c = df.query('Sub_Region == \"Western Africa\"')['Gini_index']\n",
        "d = df.query('Sub_Region == \"Northern America\"')['Gini_index']"
      ],
      "execution_count": null,
      "outputs": []
    },
    {
      "cell_type": "code",
      "metadata": {
        "colab": {
          "base_uri": "https://localhost:8080/"
        },
        "id": "XEcEYyhltTx5",
        "outputId": "9723a7dc-f3e1-41a2-a717-4d84a8eb0fd8"
      },
      "source": [
        "#t-test\n",
        "ttest_ind(c,d)"
      ],
      "execution_count": null,
      "outputs": [
        {
          "output_type": "execute_result",
          "data": {
            "text/plain": [
              "Ttest_indResult(statistic=2.5840289666322938, pvalue=0.011683113268602972)"
            ]
          },
          "metadata": {
            "tags": []
          },
          "execution_count": 122
        }
      ]
    },
    {
      "cell_type": "markdown",
      "metadata": {
        "id": "2M_Gp7SW_9sb"
      },
      "source": [
        "![ci3.png](data:image/png;base64,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)"
      ]
    },
    {
      "cell_type": "code",
      "metadata": {
        "id": "_uuU2AhtH8b5"
      },
      "source": [
        "#From a t-test between N.America and Western Africa, the probability value suggests that the \n",
        "#rivaling inequality rates are not random and due to some outside force."
      ],
      "execution_count": null,
      "outputs": []
    },
    {
      "cell_type": "markdown",
      "metadata": {
        "id": "EbQOJ0r0tnbe"
      },
      "source": [
        "There is statistical significant difference in means at the 0.01 level, so we reject the null hypothesis."
      ]
    },
    {
      "cell_type": "markdown",
      "metadata": {
        "id": "YQItxf1TDhaY"
      },
      "source": [
        "In conclusion, sectors (preferably in the US) could benefit from this shift in industry (i.e. from middle-skilled jobs -> to tech) by offering more trade schools that adhere to this rapid change in the economy in order to lower the currently rising rates of inequality. "
      ]
    }
  ]
}